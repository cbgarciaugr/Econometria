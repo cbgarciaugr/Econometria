{
  "cells": [
    {
      "cell_type": "markdown",
      "metadata": {
        "id": "view-in-github",
        "colab_type": "text"
      },
      "source": [
        "<a href=\"https://colab.research.google.com/github/cbgarciaugr/Econometria/blob/main/Multicolinealidad.ipynb\" target=\"_parent\"><img src=\"https://colab.research.google.com/assets/colab-badge.svg\" alt=\"Open In Colab\"/></a>"
      ]
    },
    {
      "cell_type": "markdown",
      "metadata": {
        "id": "iDZkBiYdyNtp"
      },
      "source": [
        "# Practica 2: Detección Multicolinealidad"
      ]
    },
    {
      "cell_type": "markdown",
      "metadata": {
        "id": "hpRpLulmyNtt"
      },
      "source": [
        "## Tarea a realizar\n",
        "\n",
        "   1. Obtener la matriz de correlaciones de las variables y el gráfico de color de las correlaciones. Comentar el signo de los  coeficientes esperados.\n",
        "   2. Estimar el modelo e interpretar los coeficientes.\n",
        "   3. Interpretar los estadísticos experimentales del test de significación individual a partir del p-valor y el test de significación global.\n",
        "   4. Obtén a través del software el factor inflactor de la varianza y el número de condición y comenta los resultados."
      ]
    },
    {
      "cell_type": "markdown",
      "metadata": {
        "id": "dmLpeqsnyNtu"
      },
      "source": [
        "### Ejemplo:\n",
        "Cargamos la base de datos Inditex que relaciona las ventas con el número de empleados y el\n",
        "número de tiendas para el periodo 2006-2020:"
      ]
    },
    {
      "cell_type": "code",
      "execution_count": null,
      "metadata": {
        "scrolled": true,
        "id": "xpDXBa_hyNtv",
        "outputId": "1c2e16db-0b0a-445a-81d1-2814265ce704"
      },
      "outputs": [
        {
          "data": {
            "text/html": [
              "<div>\n",
              "<style scoped>\n",
              "    .dataframe tbody tr th:only-of-type {\n",
              "        vertical-align: middle;\n",
              "    }\n",
              "\n",
              "    .dataframe tbody tr th {\n",
              "        vertical-align: top;\n",
              "    }\n",
              "\n",
              "    .dataframe thead th {\n",
              "        text-align: right;\n",
              "    }\n",
              "</style>\n",
              "<table border=\"1\" class=\"dataframe\">\n",
              "  <thead>\n",
              "    <tr style=\"text-align: right;\">\n",
              "      <th></th>\n",
              "      <th>A</th>\n",
              "      <th>I</th>\n",
              "      <th>E</th>\n",
              "      <th>T</th>\n",
              "      <th>CE</th>\n",
              "    </tr>\n",
              "  </thead>\n",
              "  <tbody>\n",
              "    <tr>\n",
              "      <th>0</th>\n",
              "      <td>2006</td>\n",
              "      <td>8196</td>\n",
              "      <td>69240</td>\n",
              "      <td>3131</td>\n",
              "      <td>0</td>\n",
              "    </tr>\n",
              "    <tr>\n",
              "      <th>1</th>\n",
              "      <td>2007</td>\n",
              "      <td>9435</td>\n",
              "      <td>79517</td>\n",
              "      <td>3691</td>\n",
              "      <td>0</td>\n",
              "    </tr>\n",
              "    <tr>\n",
              "      <th>2</th>\n",
              "      <td>2008</td>\n",
              "      <td>10407</td>\n",
              "      <td>89112</td>\n",
              "      <td>4264</td>\n",
              "      <td>0</td>\n",
              "    </tr>\n",
              "    <tr>\n",
              "      <th>3</th>\n",
              "      <td>2009</td>\n",
              "      <td>11084</td>\n",
              "      <td>92301</td>\n",
              "      <td>4607</td>\n",
              "      <td>0</td>\n",
              "    </tr>\n",
              "    <tr>\n",
              "      <th>4</th>\n",
              "      <td>2010</td>\n",
              "      <td>12597</td>\n",
              "      <td>100138</td>\n",
              "      <td>5044</td>\n",
              "      <td>1</td>\n",
              "    </tr>\n",
              "    <tr>\n",
              "      <th>5</th>\n",
              "      <td>2011</td>\n",
              "      <td>13793</td>\n",
              "      <td>109512</td>\n",
              "      <td>5527</td>\n",
              "      <td>1</td>\n",
              "    </tr>\n",
              "    <tr>\n",
              "      <th>6</th>\n",
              "      <td>2012</td>\n",
              "      <td>15946</td>\n",
              "      <td>120314</td>\n",
              "      <td>6009</td>\n",
              "      <td>1</td>\n",
              "    </tr>\n",
              "    <tr>\n",
              "      <th>7</th>\n",
              "      <td>2013</td>\n",
              "      <td>16724</td>\n",
              "      <td>128313</td>\n",
              "      <td>6340</td>\n",
              "      <td>1</td>\n",
              "    </tr>\n",
              "    <tr>\n",
              "      <th>8</th>\n",
              "      <td>2014</td>\n",
              "      <td>18117</td>\n",
              "      <td>137054</td>\n",
              "      <td>6683</td>\n",
              "      <td>1</td>\n",
              "    </tr>\n",
              "    <tr>\n",
              "      <th>9</th>\n",
              "      <td>2015</td>\n",
              "      <td>20900</td>\n",
              "      <td>152854</td>\n",
              "      <td>7013</td>\n",
              "      <td>1</td>\n",
              "    </tr>\n",
              "    <tr>\n",
              "      <th>10</th>\n",
              "      <td>2016</td>\n",
              "      <td>23311</td>\n",
              "      <td>162450</td>\n",
              "      <td>7292</td>\n",
              "      <td>1</td>\n",
              "    </tr>\n",
              "    <tr>\n",
              "      <th>11</th>\n",
              "      <td>2017</td>\n",
              "      <td>25336</td>\n",
              "      <td>171839</td>\n",
              "      <td>7448</td>\n",
              "      <td>1</td>\n",
              "    </tr>\n",
              "    <tr>\n",
              "      <th>12</th>\n",
              "      <td>2018</td>\n",
              "      <td>26145</td>\n",
              "      <td>174386</td>\n",
              "      <td>7490</td>\n",
              "      <td>1</td>\n",
              "    </tr>\n",
              "    <tr>\n",
              "      <th>13</th>\n",
              "      <td>2019</td>\n",
              "      <td>28286</td>\n",
              "      <td>176611</td>\n",
              "      <td>7469</td>\n",
              "      <td>1</td>\n",
              "    </tr>\n",
              "    <tr>\n",
              "      <th>14</th>\n",
              "      <td>2020</td>\n",
              "      <td>20402</td>\n",
              "      <td>144116</td>\n",
              "      <td>6829</td>\n",
              "      <td>1</td>\n",
              "    </tr>\n",
              "  </tbody>\n",
              "</table>\n",
              "</div>"
            ],
            "text/plain": [
              "       A      I       E     T  CE\n",
              "0   2006   8196   69240  3131   0\n",
              "1   2007   9435   79517  3691   0\n",
              "2   2008  10407   89112  4264   0\n",
              "3   2009  11084   92301  4607   0\n",
              "4   2010  12597  100138  5044   1\n",
              "5   2011  13793  109512  5527   1\n",
              "6   2012  15946  120314  6009   1\n",
              "7   2013  16724  128313  6340   1\n",
              "8   2014  18117  137054  6683   1\n",
              "9   2015  20900  152854  7013   1\n",
              "10  2016  23311  162450  7292   1\n",
              "11  2017  25336  171839  7448   1\n",
              "12  2018  26145  174386  7490   1\n",
              "13  2019  28286  176611  7469   1\n",
              "14  2020  20402  144116  6829   1"
            ]
          },
          "execution_count": 64,
          "metadata": {},
          "output_type": "execute_result"
        }
      ],
      "source": [
        "import numpy as np\n",
        "import statsmodels.api as sm\n",
        "import statsmodels.formula.api as smf\n",
        "import matplotlib.pylab as plt\n",
        "import pandas as pd\n",
        "datos= pd.read_excel ('DatosInditex.xlsx')\n",
        "datos\n",
        "\n",
        "\n"
      ]
    },
    {
      "cell_type": "markdown",
      "metadata": {
        "id": "i5QPJWDfyNty"
      },
      "source": [
        "### Obtenemos la matriz de correlaciones de las variables y el gráfico de color de las correlaciones. Comentar el signo de los  coeficientes esperados.\n"
      ]
    },
    {
      "cell_type": "code",
      "execution_count": null,
      "metadata": {
        "id": "W6_thPpJyNty",
        "outputId": "14b7c71e-7e48-4b2d-aec0-97d4d9270e95"
      },
      "outputs": [
        {
          "name": "stdout",
          "output_type": "stream",
          "text": [
            "[[1.         0.99198372 0.95009798 0.73039793]\n",
            " [0.99198372 1.         0.97798144 0.76986657]\n",
            " [0.95009798 0.97798144 1.         0.85241359]\n",
            " [0.73039793 0.76986657 0.85241359 1.        ]]\n"
          ]
        }
      ],
      "source": [
        "y=datos[\"I\"]\n",
        "vars=[\"E\", \"T\", \"CE\"]\n",
        "X=datos[vars]\n",
        "corr_matrix=np.corrcoef(y, X.T)\n",
        "print(corr_matrix)"
      ]
    },
    {
      "cell_type": "code",
      "execution_count": null,
      "metadata": {
        "id": "FIu0rLQEyNtz",
        "outputId": "3779d517-db01-4e0d-b108-5c3b55e9d452"
      },
      "outputs": [
        {
          "data": {
            "image/png": "[encoded data removed]",
            "text/plain": [
              "<Figure size 432x288 with 2 Axes>"
            ]
          },
          "metadata": {
            "needs_background": "light"
          },
          "output_type": "display_data"
        }
      ],
      "source": [
        "import statsmodels.graphics.api as smg\n",
        "smg.plot_corr(corr_matrix, xnames=[\"I\", \"E\", \"T\", \"CE\"])\n",
        "plt.show()"
      ]
    },
    {
      "cell_type": "markdown",
      "metadata": {
        "id": "LTP62Gb9yNt0"
      },
      "source": [
        "Se observa que el coeficiente de correlación entre la variable a explicar \"Ingresos\" y cada una de las variables explicativas es positivo, por lo que el signo esperado sería positivo.  Es decir, a mayor número de empleados, mayores ingresos; a mayor numero de tiendas, mayores ingresos, y mayores ingresos en los años con comercio electronico.\n",
        "Además, la correlación entre el numero de empleados y el numero de tiendas es superior a 0.95 por lo que puede existir problemas de multicolinealidad."
      ]
    },
    {
      "cell_type": "markdown",
      "metadata": {
        "id": "f_QsgRooyNt1"
      },
      "source": [
        "### Estimar el modelo e interpretar los coeficientes."
      ]
    },
    {
      "cell_type": "code",
      "execution_count": null,
      "metadata": {
        "id": "YpyOHJvuyNt1",
        "outputId": "0e069da6-5646-42eb-d6de-68e26a19b534"
      },
      "outputs": [
        {
          "name": "stderr",
          "output_type": "stream",
          "text": [
            "C:\\Users\\Usuario\\anaconda3\\lib\\site-packages\\scipy\\stats\\stats.py:1603: UserWarning: kurtosistest only valid for n>=20 ... continuing anyway, n=15\n",
            "  warnings.warn(\"kurtosistest only valid for n>=20 ... continuing \"\n"
          ]
        },
        {
          "data": {
            "text/html": [
              "<table class=\"simpletable\">\n",
              "<caption>OLS Regression Results</caption>\n",
              "<tr>\n",
              "  <th>Dep. Variable:</th>            <td>I</td>        <th>  R-squared:         </th> <td>   0.994</td>\n",
              "</tr>\n",
              "<tr>\n",
              "  <th>Model:</th>                   <td>OLS</td>       <th>  Adj. R-squared:    </th> <td>   0.993</td>\n",
              "</tr>\n",
              "<tr>\n",
              "  <th>Method:</th>             <td>Least Squares</td>  <th>  F-statistic:       </th> <td>   620.3</td>\n",
              "</tr>\n",
              "<tr>\n",
              "  <th>Date:</th>             <td>Sun, 28 Nov 2021</td> <th>  Prob (F-statistic):</th> <td>1.51e-12</td>\n",
              "</tr>\n",
              "<tr>\n",
              "  <th>Time:</th>                 <td>09:47:06</td>     <th>  Log-Likelihood:    </th> <td> -113.92</td>\n",
              "</tr>\n",
              "<tr>\n",
              "  <th>No. Observations:</th>      <td>    15</td>      <th>  AIC:               </th> <td>   235.8</td>\n",
              "</tr>\n",
              "<tr>\n",
              "  <th>Df Residuals:</th>          <td>    11</td>      <th>  BIC:               </th> <td>   238.7</td>\n",
              "</tr>\n",
              "<tr>\n",
              "  <th>Df Model:</th>              <td>     3</td>      <th>                     </th>     <td> </td>   \n",
              "</tr>\n",
              "<tr>\n",
              "  <th>Covariance Type:</th>      <td>nonrobust</td>    <th>                     </th>     <td> </td>   \n",
              "</tr>\n",
              "</table>\n",
              "<table class=\"simpletable\">\n",
              "<tr>\n",
              "    <td></td>       <th>coef</th>     <th>std err</th>      <th>t</th>      <th>P>|t|</th>  <th>[0.025</th>    <th>0.975]</th>  \n",
              "</tr>\n",
              "<tr>\n",
              "  <th>const</th> <td>-2311.2416</td> <td> 1126.759</td> <td>   -2.051</td> <td> 0.065</td> <td>-4791.222</td> <td>  168.739</td>\n",
              "</tr>\n",
              "<tr>\n",
              "  <th>E</th>     <td>    0.2769</td> <td>    0.024</td> <td>   11.310</td> <td> 0.000</td> <td>    0.223</td> <td>    0.331</td>\n",
              "</tr>\n",
              "<tr>\n",
              "  <th>T</th>     <td>   -2.7447</td> <td>    0.739</td> <td>   -3.714</td> <td> 0.003</td> <td>   -4.371</td> <td>   -1.118</td>\n",
              "</tr>\n",
              "<tr>\n",
              "  <th>CE</th>    <td>  984.6658</td> <td>  772.821</td> <td>    1.274</td> <td> 0.229</td> <td> -716.301</td> <td> 2685.633</td>\n",
              "</tr>\n",
              "</table>\n",
              "<table class=\"simpletable\">\n",
              "<tr>\n",
              "  <th>Omnibus:</th>       <td> 3.860</td> <th>  Durbin-Watson:     </th> <td>   1.342</td>\n",
              "</tr>\n",
              "<tr>\n",
              "  <th>Prob(Omnibus):</th> <td> 0.145</td> <th>  Jarque-Bera (JB):  </th> <td>   1.690</td>\n",
              "</tr>\n",
              "<tr>\n",
              "  <th>Skew:</th>          <td> 0.765</td> <th>  Prob(JB):          </th> <td>   0.430</td>\n",
              "</tr>\n",
              "<tr>\n",
              "  <th>Kurtosis:</th>      <td> 3.601</td> <th>  Cond. No.          </th> <td>1.19e+06</td>\n",
              "</tr>\n",
              "</table><br/><br/>Notes:<br/>[1] Standard Errors assume that the covariance matrix of the errors is correctly specified.<br/>[2] The condition number is large, 1.19e+06. This might indicate that there are<br/>strong multicollinearity or other numerical problems."
            ],
            "text/plain": [
              "<class 'statsmodels.iolib.summary.Summary'>\n",
              "\"\"\"\n",
              "                            OLS Regression Results                            \n",
              "==============================================================================\n",
              "Dep. Variable:                      I   R-squared:                       0.994\n",
              "Model:                            OLS   Adj. R-squared:                  0.993\n",
              "Method:                 Least Squares   F-statistic:                     620.3\n",
              "Date:                Sun, 28 Nov 2021   Prob (F-statistic):           1.51e-12\n",
              "Time:                        09:47:06   Log-Likelihood:                -113.92\n",
              "No. Observations:                  15   AIC:                             235.8\n",
              "Df Residuals:                      11   BIC:                             238.7\n",
              "Df Model:                           3                                         \n",
              "Covariance Type:            nonrobust                                         \n",
              "==============================================================================\n",
              "                 coef    std err          t      P>|t|      [0.025      0.975]\n",
              "------------------------------------------------------------------------------\n",
              "const      -2311.2416   1126.759     -2.051      0.065   -4791.222     168.739\n",
              "E              0.2769      0.024     11.310      0.000       0.223       0.331\n",
              "T             -2.7447      0.739     -3.714      0.003      -4.371      -1.118\n",
              "CE           984.6658    772.821      1.274      0.229    -716.301    2685.633\n",
              "==============================================================================\n",
              "Omnibus:                        3.860   Durbin-Watson:                   1.342\n",
              "Prob(Omnibus):                  0.145   Jarque-Bera (JB):                1.690\n",
              "Skew:                           0.765   Prob(JB):                        0.430\n",
              "Kurtosis:                       3.601   Cond. No.                     1.19e+06\n",
              "==============================================================================\n",
              "\n",
              "Notes:\n",
              "[1] Standard Errors assume that the covariance matrix of the errors is correctly specified.\n",
              "[2] The condition number is large, 1.19e+06. This might indicate that there are\n",
              "strong multicollinearity or other numerical problems.\n",
              "\"\"\""
            ]
          },
          "execution_count": 66,
          "metadata": {},
          "output_type": "execute_result"
        }
      ],
      "source": [
        "mco1 = sm.OLS(y, sm.add_constant(X)).fit()\n",
        "mco1.summary()"
      ]
    },
    {
      "cell_type": "markdown",
      "metadata": {
        "id": "EZWO9mUmyNt2"
      },
      "source": [
        "Se observa que el signo de la variable numero de tiendas es negativo en contra de lo esperado. El signo de la variable numero de empleaados si es positivo tal y como se esperaba."
      ]
    },
    {
      "cell_type": "markdown",
      "metadata": {
        "id": "v8e_kwhryNt2"
      },
      "source": [
        "### Interpretar los estadísticos experimentales del test de significación individual a partir del p-valor y el test de significación global."
      ]
    },
    {
      "cell_type": "markdown",
      "metadata": {
        "id": "KJgUhHa0yNt2"
      },
      "source": [
        " Se observa que el parámetro que acompaña a la constante es significativo solo al 90% de confianza, los parámetros asociados a las variables E y T son significativos al 90, 95 y 99% de confianza y el parámetro que acompaña a la variable Comercio Electronico no es significativo a ninguno de los niveles de confianza habituales. Por ello, procedemos a eliminarlo de la regresión.\n",
        "En cuanto al modelo, es globalmente significativo ya que el p-valor es practicamente 0."
      ]
    },
    {
      "cell_type": "code",
      "execution_count": null,
      "metadata": {
        "id": "jAYIYOTwyNt3",
        "outputId": "24cd24e7-2840-4cea-ad79-5d8e9dbed03a"
      },
      "outputs": [
        {
          "name": "stderr",
          "output_type": "stream",
          "text": [
            "C:\\Users\\Usuario\\anaconda3\\lib\\site-packages\\scipy\\stats\\stats.py:1603: UserWarning: kurtosistest only valid for n>=20 ... continuing anyway, n=15\n",
            "  warnings.warn(\"kurtosistest only valid for n>=20 ... continuing \"\n"
          ]
        },
        {
          "data": {
            "text/html": [
              "<table class=\"simpletable\">\n",
              "<caption>OLS Regression Results</caption>\n",
              "<tr>\n",
              "  <th>Dep. Variable:</th>            <td>I</td>        <th>  R-squared:         </th> <td>   0.993</td>\n",
              "</tr>\n",
              "<tr>\n",
              "  <th>Model:</th>                   <td>OLS</td>       <th>  Adj. R-squared:    </th> <td>   0.992</td>\n",
              "</tr>\n",
              "<tr>\n",
              "  <th>Method:</th>             <td>Least Squares</td>  <th>  F-statistic:       </th> <td>   883.7</td>\n",
              "</tr>\n",
              "<tr>\n",
              "  <th>Date:</th>             <td>Sun, 28 Nov 2021</td> <th>  Prob (F-statistic):</th> <td>9.41e-14</td>\n",
              "</tr>\n",
              "<tr>\n",
              "  <th>Time:</th>                 <td>09:48:05</td>     <th>  Log-Likelihood:    </th> <td> -114.95</td>\n",
              "</tr>\n",
              "<tr>\n",
              "  <th>No. Observations:</th>      <td>    15</td>      <th>  AIC:               </th> <td>   235.9</td>\n",
              "</tr>\n",
              "<tr>\n",
              "  <th>Df Residuals:</th>          <td>    12</td>      <th>  BIC:               </th> <td>   238.0</td>\n",
              "</tr>\n",
              "<tr>\n",
              "  <th>Df Model:</th>              <td>     2</td>      <th>                     </th>     <td> </td>   \n",
              "</tr>\n",
              "<tr>\n",
              "  <th>Covariance Type:</th>      <td>nonrobust</td>    <th>                     </th>     <td> </td>   \n",
              "</tr>\n",
              "</table>\n",
              "<table class=\"simpletable\">\n",
              "<tr>\n",
              "    <td></td>       <th>coef</th>     <th>std err</th>      <th>t</th>      <th>P>|t|</th>  <th>[0.025</th>    <th>0.975]</th>  \n",
              "</tr>\n",
              "<tr>\n",
              "  <th>const</th> <td>-3435.5333</td> <td>  718.643</td> <td>   -4.781</td> <td> 0.000</td> <td>-5001.323</td> <td>-1869.744</td>\n",
              "</tr>\n",
              "<tr>\n",
              "  <th>E</th>     <td>    0.2587</td> <td>    0.020</td> <td>   12.695</td> <td> 0.000</td> <td>    0.214</td> <td>    0.303</td>\n",
              "</tr>\n",
              "<tr>\n",
              "  <th>T</th>     <td>   -2.0413</td> <td>    0.504</td> <td>   -4.051</td> <td> 0.002</td> <td>   -3.139</td> <td>   -0.944</td>\n",
              "</tr>\n",
              "</table>\n",
              "<table class=\"simpletable\">\n",
              "<tr>\n",
              "  <th>Omnibus:</th>       <td> 2.991</td> <th>  Durbin-Watson:     </th> <td>   1.222</td>\n",
              "</tr>\n",
              "<tr>\n",
              "  <th>Prob(Omnibus):</th> <td> 0.224</td> <th>  Jarque-Bera (JB):  </th> <td>   1.230</td>\n",
              "</tr>\n",
              "<tr>\n",
              "  <th>Skew:</th>          <td> 0.669</td> <th>  Prob(JB):          </th> <td>   0.541</td>\n",
              "</tr>\n",
              "<tr>\n",
              "  <th>Kurtosis:</th>      <td> 3.424</td> <th>  Cond. No.          </th> <td>6.38e+05</td>\n",
              "</tr>\n",
              "</table><br/><br/>Notes:<br/>[1] Standard Errors assume that the covariance matrix of the errors is correctly specified.<br/>[2] The condition number is large, 6.38e+05. This might indicate that there are<br/>strong multicollinearity or other numerical problems."
            ],
            "text/plain": [
              "<class 'statsmodels.iolib.summary.Summary'>\n",
              "\"\"\"\n",
              "                            OLS Regression Results                            \n",
              "==============================================================================\n",
              "Dep. Variable:                      I   R-squared:                       0.993\n",
              "Model:                            OLS   Adj. R-squared:                  0.992\n",
              "Method:                 Least Squares   F-statistic:                     883.7\n",
              "Date:                Sun, 28 Nov 2021   Prob (F-statistic):           9.41e-14\n",
              "Time:                        09:48:05   Log-Likelihood:                -114.95\n",
              "No. Observations:                  15   AIC:                             235.9\n",
              "Df Residuals:                      12   BIC:                             238.0\n",
              "Df Model:                           2                                         \n",
              "Covariance Type:            nonrobust                                         \n",
              "==============================================================================\n",
              "                 coef    std err          t      P>|t|      [0.025      0.975]\n",
              "------------------------------------------------------------------------------\n",
              "const      -3435.5333    718.643     -4.781      0.000   -5001.323   -1869.744\n",
              "E              0.2587      0.020     12.695      0.000       0.214       0.303\n",
              "T             -2.0413      0.504     -4.051      0.002      -3.139      -0.944\n",
              "==============================================================================\n",
              "Omnibus:                        2.991   Durbin-Watson:                   1.222\n",
              "Prob(Omnibus):                  0.224   Jarque-Bera (JB):                1.230\n",
              "Skew:                           0.669   Prob(JB):                        0.541\n",
              "Kurtosis:                       3.424   Cond. No.                     6.38e+05\n",
              "==============================================================================\n",
              "\n",
              "Notes:\n",
              "[1] Standard Errors assume that the covariance matrix of the errors is correctly specified.\n",
              "[2] The condition number is large, 6.38e+05. This might indicate that there are\n",
              "strong multicollinearity or other numerical problems.\n",
              "\"\"\""
            ]
          },
          "execution_count": 67,
          "metadata": {},
          "output_type": "execute_result"
        }
      ],
      "source": [
        "y=datos[\"I\"]\n",
        "vars=[\"E\", \"T\",]\n",
        "X=datos[vars]\n",
        "\n",
        "mco2 = sm.OLS(y, sm.add_constant(X)).fit()\n",
        "mco2.summary()"
      ]
    },
    {
      "cell_type": "markdown",
      "metadata": {
        "id": "hZa-9ZuxyNt3"
      },
      "source": [
        "### Obtén a través del software el factor inflactor de la varianza y el número de condición y comenta los resultados."
      ]
    },
    {
      "cell_type": "code",
      "execution_count": null,
      "metadata": {
        "id": "crHvGulNyNt3",
        "outputId": "737331ae-7156-45f6-a7fc-cd80ec009518"
      },
      "outputs": [
        {
          "data": {
            "text/plain": [
              "638099.0259935405"
            ]
          },
          "execution_count": 68,
          "metadata": {},
          "output_type": "execute_result"
        }
      ],
      "source": [
        "mco2.condition_number #Número de Condición"
      ]
    },
    {
      "cell_type": "code",
      "execution_count": null,
      "metadata": {
        "id": "I-Q-JCrfyNt3",
        "outputId": "99afd665-8647-4092-ff4e-14463ce20f65"
      },
      "outputs": [
        {
          "data": {
            "text/plain": [
              "1185202.0731088382"
            ]
          },
          "execution_count": 69,
          "metadata": {},
          "output_type": "execute_result"
        }
      ],
      "source": [
        "mco1.condition_number #Número de Condición"
      ]
    },
    {
      "cell_type": "code",
      "execution_count": null,
      "metadata": {
        "id": "vxzGa34lyNt4",
        "outputId": "e55dd6ce-2c57-478f-e919-39485ef84dc8"
      },
      "outputs": [
        {
          "data": {
            "text/plain": [
              "[259.32648631517714, 259.32648631517714]"
            ]
          },
          "execution_count": 70,
          "metadata": {},
          "output_type": "execute_result"
        }
      ],
      "source": [
        "import statsmodels.stats.outliers_influence as oi\n",
        "vifs=[oi.variance_inflation_factor(X.values, i) for i in range(X.shape[1])]\n",
        "vifs"
      ]
    }
  ],
  "metadata": {
    "kernelspec": {
      "display_name": "Python 3",
      "language": "python",
      "name": "python3"
    },
    "language_info": {
      "codemirror_mode": {
        "name": "ipython",
        "version": 3
      },
      "file_extension": ".py",
      "mimetype": "text/x-python",
      "name": "python",
      "nbconvert_exporter": "python",
      "pygments_lexer": "ipython3",
      "version": "3.8.5"
    },
    "colab": {
      "provenance": [],
      "include_colab_link": true
    }
  },
  "nbformat": 4,
  "nbformat_minor": 0
}