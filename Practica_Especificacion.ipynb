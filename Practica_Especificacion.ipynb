{
 "cells": [
  {
   "cell_type": "markdown",
   "metadata": {},
   "source": [
    "# Práctica 1: Estimación en Modelos de Regresión Lineales"
   ]
  },
  {
   "cell_type": "markdown",
   "metadata": {},
   "source": [
    "##  Objetivos"
   ]
  },
  {
   "cell_type": "markdown",
   "metadata": {},
   "source": [
    "1. Comprender el concepto de perturbación, residuo y la importancia de una buena especificación de un modelo econométrico.\n",
    "2. Aprender a estimar un modelo econométrico.\n",
    "3. Interpretación de los coeficientes estimados. "
   ]
  },
  {
   "cell_type": "markdown",
   "metadata": {},
   "source": [
    "Carguemos una base de datos de Greene \"greene8_3\""
   ]
  },
  {
   "cell_type": "code",
   "execution_count": 109,
   "metadata": {},
   "outputs": [
    {
     "data": {
      "text/html": [
       "<div>\n",
       "<style scoped>\n",
       "    .dataframe tbody tr th:only-of-type {\n",
       "        vertical-align: middle;\n",
       "    }\n",
       "\n",
       "    .dataframe tbody tr th {\n",
       "        vertical-align: top;\n",
       "    }\n",
       "\n",
       "    .dataframe thead th {\n",
       "        text-align: right;\n",
       "    }\n",
       "</style>\n",
       "<table border=\"1\" class=\"dataframe\">\n",
       "  <thead>\n",
       "    <tr style=\"text-align: right;\">\n",
       "      <th></th>\n",
       "      <th>year</th>\n",
       "      <th>q</th>\n",
       "      <th>k</th>\n",
       "      <th>A</th>\n",
       "    </tr>\n",
       "  </thead>\n",
       "  <tbody>\n",
       "    <tr>\n",
       "      <th>0</th>\n",
       "      <td>1909</td>\n",
       "      <td>0.623</td>\n",
       "      <td>2.06</td>\n",
       "      <td>1.000</td>\n",
       "    </tr>\n",
       "    <tr>\n",
       "      <th>1</th>\n",
       "      <td>1910</td>\n",
       "      <td>0.616</td>\n",
       "      <td>2.10</td>\n",
       "      <td>0.983</td>\n",
       "    </tr>\n",
       "    <tr>\n",
       "      <th>2</th>\n",
       "      <td>1911</td>\n",
       "      <td>0.647</td>\n",
       "      <td>2.17</td>\n",
       "      <td>1.021</td>\n",
       "    </tr>\n",
       "    <tr>\n",
       "      <th>3</th>\n",
       "      <td>1912</td>\n",
       "      <td>0.652</td>\n",
       "      <td>2.21</td>\n",
       "      <td>1.023</td>\n",
       "    </tr>\n",
       "    <tr>\n",
       "      <th>4</th>\n",
       "      <td>1913</td>\n",
       "      <td>0.680</td>\n",
       "      <td>2.23</td>\n",
       "      <td>1.064</td>\n",
       "    </tr>\n",
       "    <tr>\n",
       "      <th>5</th>\n",
       "      <td>1914</td>\n",
       "      <td>0.682</td>\n",
       "      <td>2.20</td>\n",
       "      <td>1.071</td>\n",
       "    </tr>\n",
       "    <tr>\n",
       "      <th>6</th>\n",
       "      <td>1915</td>\n",
       "      <td>0.669</td>\n",
       "      <td>2.26</td>\n",
       "      <td>1.041</td>\n",
       "    </tr>\n",
       "    <tr>\n",
       "      <th>7</th>\n",
       "      <td>1916</td>\n",
       "      <td>0.700</td>\n",
       "      <td>2.34</td>\n",
       "      <td>1.076</td>\n",
       "    </tr>\n",
       "    <tr>\n",
       "      <th>8</th>\n",
       "      <td>1917</td>\n",
       "      <td>0.679</td>\n",
       "      <td>2.21</td>\n",
       "      <td>1.065</td>\n",
       "    </tr>\n",
       "    <tr>\n",
       "      <th>9</th>\n",
       "      <td>1918</td>\n",
       "      <td>0.729</td>\n",
       "      <td>2.22</td>\n",
       "      <td>1.142</td>\n",
       "    </tr>\n",
       "    <tr>\n",
       "      <th>10</th>\n",
       "      <td>1919</td>\n",
       "      <td>0.767</td>\n",
       "      <td>2.47</td>\n",
       "      <td>1.157</td>\n",
       "    </tr>\n",
       "    <tr>\n",
       "      <th>11</th>\n",
       "      <td>1920</td>\n",
       "      <td>0.721</td>\n",
       "      <td>2.58</td>\n",
       "      <td>1.069</td>\n",
       "    </tr>\n",
       "    <tr>\n",
       "      <th>12</th>\n",
       "      <td>1921</td>\n",
       "      <td>0.770</td>\n",
       "      <td>2.55</td>\n",
       "      <td>1.146</td>\n",
       "    </tr>\n",
       "    <tr>\n",
       "      <th>13</th>\n",
       "      <td>1922</td>\n",
       "      <td>0.788</td>\n",
       "      <td>2.49</td>\n",
       "      <td>1.183</td>\n",
       "    </tr>\n",
       "    <tr>\n",
       "      <th>14</th>\n",
       "      <td>1923</td>\n",
       "      <td>0.809</td>\n",
       "      <td>2.61</td>\n",
       "      <td>1.196</td>\n",
       "    </tr>\n",
       "    <tr>\n",
       "      <th>15</th>\n",
       "      <td>1924</td>\n",
       "      <td>0.863</td>\n",
       "      <td>2.74</td>\n",
       "      <td>1.215</td>\n",
       "    </tr>\n",
       "    <tr>\n",
       "      <th>16</th>\n",
       "      <td>1925</td>\n",
       "      <td>0.872</td>\n",
       "      <td>2.81</td>\n",
       "      <td>1.254</td>\n",
       "    </tr>\n",
       "    <tr>\n",
       "      <th>17</th>\n",
       "      <td>1926</td>\n",
       "      <td>0.869</td>\n",
       "      <td>2.87</td>\n",
       "      <td>1.241</td>\n",
       "    </tr>\n",
       "    <tr>\n",
       "      <th>18</th>\n",
       "      <td>1927</td>\n",
       "      <td>0.871</td>\n",
       "      <td>2.93</td>\n",
       "      <td>1.235</td>\n",
       "    </tr>\n",
       "    <tr>\n",
       "      <th>19</th>\n",
       "      <td>1928</td>\n",
       "      <td>0.874</td>\n",
       "      <td>3.02</td>\n",
       "      <td>1.226</td>\n",
       "    </tr>\n",
       "    <tr>\n",
       "      <th>20</th>\n",
       "      <td>1929</td>\n",
       "      <td>0.895</td>\n",
       "      <td>3.06</td>\n",
       "      <td>1.251</td>\n",
       "    </tr>\n",
       "    <tr>\n",
       "      <th>21</th>\n",
       "      <td>1930</td>\n",
       "      <td>0.880</td>\n",
       "      <td>3.30</td>\n",
       "      <td>1.197</td>\n",
       "    </tr>\n",
       "    <tr>\n",
       "      <th>22</th>\n",
       "      <td>1931</td>\n",
       "      <td>0.904</td>\n",
       "      <td>3.33</td>\n",
       "      <td>1.226</td>\n",
       "    </tr>\n",
       "    <tr>\n",
       "      <th>23</th>\n",
       "      <td>1932</td>\n",
       "      <td>0.879</td>\n",
       "      <td>3.28</td>\n",
       "      <td>1.198</td>\n",
       "    </tr>\n",
       "    <tr>\n",
       "      <th>24</th>\n",
       "      <td>1933</td>\n",
       "      <td>0.869</td>\n",
       "      <td>3.10</td>\n",
       "      <td>1.211</td>\n",
       "    </tr>\n",
       "    <tr>\n",
       "      <th>25</th>\n",
       "      <td>1934</td>\n",
       "      <td>0.921</td>\n",
       "      <td>3.00</td>\n",
       "      <td>1.298</td>\n",
       "    </tr>\n",
       "    <tr>\n",
       "      <th>26</th>\n",
       "      <td>1935</td>\n",
       "      <td>0.943</td>\n",
       "      <td>2.87</td>\n",
       "      <td>1.349</td>\n",
       "    </tr>\n",
       "    <tr>\n",
       "      <th>27</th>\n",
       "      <td>1936</td>\n",
       "      <td>0.982</td>\n",
       "      <td>2.72</td>\n",
       "      <td>1.429</td>\n",
       "    </tr>\n",
       "    <tr>\n",
       "      <th>28</th>\n",
       "      <td>1937</td>\n",
       "      <td>0.971</td>\n",
       "      <td>2.71</td>\n",
       "      <td>1.415</td>\n",
       "    </tr>\n",
       "    <tr>\n",
       "      <th>29</th>\n",
       "      <td>1938</td>\n",
       "      <td>1.000</td>\n",
       "      <td>2.78</td>\n",
       "      <td>1.445</td>\n",
       "    </tr>\n",
       "    <tr>\n",
       "      <th>30</th>\n",
       "      <td>1939</td>\n",
       "      <td>1.034</td>\n",
       "      <td>2.66</td>\n",
       "      <td>1.514</td>\n",
       "    </tr>\n",
       "    <tr>\n",
       "      <th>31</th>\n",
       "      <td>1940</td>\n",
       "      <td>1.082</td>\n",
       "      <td>2.63</td>\n",
       "      <td>1.590</td>\n",
       "    </tr>\n",
       "    <tr>\n",
       "      <th>32</th>\n",
       "      <td>1941</td>\n",
       "      <td>1.122</td>\n",
       "      <td>2.58</td>\n",
       "      <td>1.660</td>\n",
       "    </tr>\n",
       "    <tr>\n",
       "      <th>33</th>\n",
       "      <td>1942</td>\n",
       "      <td>1.136</td>\n",
       "      <td>2.64</td>\n",
       "      <td>1.665</td>\n",
       "    </tr>\n",
       "    <tr>\n",
       "      <th>34</th>\n",
       "      <td>1943</td>\n",
       "      <td>1.180</td>\n",
       "      <td>2.62</td>\n",
       "      <td>1.692</td>\n",
       "    </tr>\n",
       "    <tr>\n",
       "      <th>35</th>\n",
       "      <td>1944</td>\n",
       "      <td>1.265</td>\n",
       "      <td>2.63</td>\n",
       "      <td>1.812</td>\n",
       "    </tr>\n",
       "    <tr>\n",
       "      <th>36</th>\n",
       "      <td>1945</td>\n",
       "      <td>1.296</td>\n",
       "      <td>2.66</td>\n",
       "      <td>1.850</td>\n",
       "    </tr>\n",
       "    <tr>\n",
       "      <th>37</th>\n",
       "      <td>1946</td>\n",
       "      <td>1.215</td>\n",
       "      <td>2.50</td>\n",
       "      <td>1.769</td>\n",
       "    </tr>\n",
       "    <tr>\n",
       "      <th>38</th>\n",
       "      <td>1947</td>\n",
       "      <td>1.194</td>\n",
       "      <td>2.50</td>\n",
       "      <td>1.739</td>\n",
       "    </tr>\n",
       "    <tr>\n",
       "      <th>39</th>\n",
       "      <td>1948</td>\n",
       "      <td>1.221</td>\n",
       "      <td>2.55</td>\n",
       "      <td>1.767</td>\n",
       "    </tr>\n",
       "    <tr>\n",
       "      <th>40</th>\n",
       "      <td>1949</td>\n",
       "      <td>1.275</td>\n",
       "      <td>2.70</td>\n",
       "      <td>1.809</td>\n",
       "    </tr>\n",
       "  </tbody>\n",
       "</table>\n",
       "</div>"
      ],
      "text/plain": [
       "    year      q     k      A\n",
       "0   1909  0.623  2.06  1.000\n",
       "1   1910  0.616  2.10  0.983\n",
       "2   1911  0.647  2.17  1.021\n",
       "3   1912  0.652  2.21  1.023\n",
       "4   1913  0.680  2.23  1.064\n",
       "5   1914  0.682  2.20  1.071\n",
       "6   1915  0.669  2.26  1.041\n",
       "7   1916  0.700  2.34  1.076\n",
       "8   1917  0.679  2.21  1.065\n",
       "9   1918  0.729  2.22  1.142\n",
       "10  1919  0.767  2.47  1.157\n",
       "11  1920  0.721  2.58  1.069\n",
       "12  1921  0.770  2.55  1.146\n",
       "13  1922  0.788  2.49  1.183\n",
       "14  1923  0.809  2.61  1.196\n",
       "15  1924  0.863  2.74  1.215\n",
       "16  1925  0.872  2.81  1.254\n",
       "17  1926  0.869  2.87  1.241\n",
       "18  1927  0.871  2.93  1.235\n",
       "19  1928  0.874  3.02  1.226\n",
       "20  1929  0.895  3.06  1.251\n",
       "21  1930  0.880  3.30  1.197\n",
       "22  1931  0.904  3.33  1.226\n",
       "23  1932  0.879  3.28  1.198\n",
       "24  1933  0.869  3.10  1.211\n",
       "25  1934  0.921  3.00  1.298\n",
       "26  1935  0.943  2.87  1.349\n",
       "27  1936  0.982  2.72  1.429\n",
       "28  1937  0.971  2.71  1.415\n",
       "29  1938  1.000  2.78  1.445\n",
       "30  1939  1.034  2.66  1.514\n",
       "31  1940  1.082  2.63  1.590\n",
       "32  1941  1.122  2.58  1.660\n",
       "33  1942  1.136  2.64  1.665\n",
       "34  1943  1.180  2.62  1.692\n",
       "35  1944  1.265  2.63  1.812\n",
       "36  1945  1.296  2.66  1.850\n",
       "37  1946  1.215  2.50  1.769\n",
       "38  1947  1.194  2.50  1.739\n",
       "39  1948  1.221  2.55  1.767\n",
       "40  1949  1.275  2.70  1.809"
      ]
     },
     "execution_count": 109,
     "metadata": {},
     "output_type": "execute_result"
    }
   ],
   "source": [
    "import pandas as pd\n",
    "datos= pd.read_excel ('greene8_3.xlsx')\n",
    "datos"
   ]
  },
  {
   "cell_type": "markdown",
   "metadata": {},
   "source": [
    "Esta base de datos procede del estudio de Solow (1957) en relación con la función de producción. Contamos con información sobre  la producción agregada por trabajador/hora (q), un ratio sobre el capital agregado/trabajo (k) y un índice tecnologico (A)."
   ]
  },
  {
   "cell_type": "code",
   "execution_count": 111,
   "metadata": {},
   "outputs": [],
   "source": [
    "y=datos['q']\n",
    "X=sm.add_constant(datos[[\"k\", \"A\"]])\n",
    "k=datos[\"k\"]\n",
    "A=datos[\"A\"]\n",
    "years=datos['year']"
   ]
  },
  {
   "cell_type": "code",
   "execution_count": 63,
   "metadata": {},
   "outputs": [],
   "source": [
    "import string\n",
    "import seaborn as sns\n",
    "import numpy as np\n",
    "import statsmodels.api as sm\n",
    "import statsmodels.formula.api as smf\n",
    "import matplotlib.pylab as plt\n"
   ]
  },
  {
   "cell_type": "markdown",
   "metadata": {},
   "source": [
    "## Estadísticos Descriptivos:"
   ]
  },
  {
   "cell_type": "code",
   "execution_count": 118,
   "metadata": {},
   "outputs": [
    {
     "name": "stdout",
     "output_type": "stream",
     "text": [
      "0.19881434995135389\n"
     ]
    },
    {
     "data": {
      "image/png": "[encoded data removed]",
      "text/plain": [
       "<Figure size 432x288 with 1 Axes>"
      ]
     },
     "metadata": {
      "needs_background": "light"
     },
     "output_type": "display_data"
    },
    {
     "name": "stdout",
     "output_type": "stream",
     "text": [
      "0.729 0.874 1.034 0.19881434995135389 0.9059756097560976\n"
     ]
    }
   ],
   "source": [
    "media=np.mean(y)\n",
    "Q1=np.quantile(y, 0.25)\n",
    "Q3=np.quantile(y, 0.75)\n",
    "Varianza=np.var(y)\n",
    "DesviacionTipica=np.std(y)\n",
    "print(DesviacionTipica)\n",
    "Mediana=np.median(y)\n",
    "histograma=plt.hist(y, bins='auto', rwidth=0.85)\n",
    "plt.xlabel('y')\n",
    "plt.ylabel('Frecuancia')\n",
    "plt.title(\"Histrograma de y (q)\")\n",
    "plt.show()\n",
    "print(Q1, Mediana, Q3, DesviacionTipica, np.mean(y))"
   ]
  },
  {
   "cell_type": "code",
   "execution_count": 116,
   "metadata": {},
   "outputs": [
    {
     "data": {
      "text/html": [
       "<div>\n",
       "<style scoped>\n",
       "    .dataframe tbody tr th:only-of-type {\n",
       "        vertical-align: middle;\n",
       "    }\n",
       "\n",
       "    .dataframe tbody tr th {\n",
       "        vertical-align: top;\n",
       "    }\n",
       "\n",
       "    .dataframe thead th {\n",
       "        text-align: right;\n",
       "    }\n",
       "</style>\n",
       "<table border=\"1\" class=\"dataframe\">\n",
       "  <thead>\n",
       "    <tr style=\"text-align: right;\">\n",
       "      <th></th>\n",
       "      <th>year</th>\n",
       "      <th>q</th>\n",
       "      <th>k</th>\n",
       "      <th>A</th>\n",
       "    </tr>\n",
       "  </thead>\n",
       "  <tbody>\n",
       "    <tr>\n",
       "      <th>count</th>\n",
       "      <td>41.000000</td>\n",
       "      <td>41.000000</td>\n",
       "      <td>41.000000</td>\n",
       "      <td>41.000000</td>\n",
       "    </tr>\n",
       "    <tr>\n",
       "      <th>mean</th>\n",
       "      <td>1929.000000</td>\n",
       "      <td>0.905976</td>\n",
       "      <td>2.631463</td>\n",
       "      <td>1.324244</td>\n",
       "    </tr>\n",
       "    <tr>\n",
       "      <th>std</th>\n",
       "      <td>11.979149</td>\n",
       "      <td>0.201284</td>\n",
       "      <td>0.329815</td>\n",
       "      <td>0.267492</td>\n",
       "    </tr>\n",
       "    <tr>\n",
       "      <th>min</th>\n",
       "      <td>1909.000000</td>\n",
       "      <td>0.616000</td>\n",
       "      <td>2.060000</td>\n",
       "      <td>0.983000</td>\n",
       "    </tr>\n",
       "    <tr>\n",
       "      <th>25%</th>\n",
       "      <td>1919.000000</td>\n",
       "      <td>0.729000</td>\n",
       "      <td>2.470000</td>\n",
       "      <td>1.142000</td>\n",
       "    </tr>\n",
       "    <tr>\n",
       "      <th>50%</th>\n",
       "      <td>1929.000000</td>\n",
       "      <td>0.874000</td>\n",
       "      <td>2.630000</td>\n",
       "      <td>1.226000</td>\n",
       "    </tr>\n",
       "    <tr>\n",
       "      <th>75%</th>\n",
       "      <td>1939.000000</td>\n",
       "      <td>1.034000</td>\n",
       "      <td>2.810000</td>\n",
       "      <td>1.514000</td>\n",
       "    </tr>\n",
       "    <tr>\n",
       "      <th>max</th>\n",
       "      <td>1949.000000</td>\n",
       "      <td>1.296000</td>\n",
       "      <td>3.330000</td>\n",
       "      <td>1.850000</td>\n",
       "    </tr>\n",
       "  </tbody>\n",
       "</table>\n",
       "</div>"
      ],
      "text/plain": [
       "              year          q          k          A\n",
       "count    41.000000  41.000000  41.000000  41.000000\n",
       "mean   1929.000000   0.905976   2.631463   1.324244\n",
       "std      11.979149   0.201284   0.329815   0.267492\n",
       "min    1909.000000   0.616000   2.060000   0.983000\n",
       "25%    1919.000000   0.729000   2.470000   1.142000\n",
       "50%    1929.000000   0.874000   2.630000   1.226000\n",
       "75%    1939.000000   1.034000   2.810000   1.514000\n",
       "max    1949.000000   1.296000   3.330000   1.850000"
      ]
     },
     "execution_count": 116,
     "metadata": {},
     "output_type": "execute_result"
    }
   ],
   "source": [
    "datos.describe()"
   ]
  },
  {
   "cell_type": "code",
   "execution_count": 106,
   "metadata": {},
   "outputs": [
    {
     "data": {
      "text/html": [
       "<div>\n",
       "<style scoped>\n",
       "    .dataframe tbody tr th:only-of-type {\n",
       "        vertical-align: middle;\n",
       "    }\n",
       "\n",
       "    .dataframe tbody tr th {\n",
       "        vertical-align: top;\n",
       "    }\n",
       "\n",
       "    .dataframe thead th {\n",
       "        text-align: right;\n",
       "    }\n",
       "</style>\n",
       "<table border=\"1\" class=\"dataframe\">\n",
       "  <thead>\n",
       "    <tr style=\"text-align: right;\">\n",
       "      <th></th>\n",
       "      <th>year</th>\n",
       "      <th>q</th>\n",
       "      <th>k</th>\n",
       "      <th>A</th>\n",
       "    </tr>\n",
       "  </thead>\n",
       "  <tbody>\n",
       "    <tr>\n",
       "      <th>year</th>\n",
       "      <td>1.000000</td>\n",
       "      <td>0.731709</td>\n",
       "      <td>0.483181</td>\n",
       "      <td>0.944230</td>\n",
       "    </tr>\n",
       "    <tr>\n",
       "      <th>q</th>\n",
       "      <td>0.731709</td>\n",
       "      <td>1.000000</td>\n",
       "      <td>-0.045896</td>\n",
       "      <td>0.857965</td>\n",
       "    </tr>\n",
       "    <tr>\n",
       "      <th>k</th>\n",
       "      <td>0.483181</td>\n",
       "      <td>-0.045896</td>\n",
       "      <td>1.000000</td>\n",
       "      <td>0.219015</td>\n",
       "    </tr>\n",
       "    <tr>\n",
       "      <th>A</th>\n",
       "      <td>0.944230</td>\n",
       "      <td>0.857965</td>\n",
       "      <td>0.219015</td>\n",
       "      <td>1.000000</td>\n",
       "    </tr>\n",
       "  </tbody>\n",
       "</table>\n",
       "</div>"
      ],
      "text/plain": [
       "          year         q         k         A\n",
       "year  1.000000  0.731709  0.483181  0.944230\n",
       "q     0.731709  1.000000 -0.045896  0.857965\n",
       "k     0.483181 -0.045896  1.000000  0.219015\n",
       "A     0.944230  0.857965  0.219015  1.000000"
      ]
     },
     "execution_count": 106,
     "metadata": {},
     "output_type": "execute_result"
    }
   ],
   "source": [
    "data.corr()"
   ]
  },
  {
   "cell_type": "markdown",
   "metadata": {},
   "source": [
    "Ahora ajustamos el modelo $y = X\\beta + u$ y extraemos un resumen del resultado:"
   ]
  },
  {
   "cell_type": "code",
   "execution_count": 119,
   "metadata": {},
   "outputs": [
    {
     "data": {
      "text/html": [
       "<table class=\"simpletable\">\n",
       "<caption>OLS Regression Results</caption>\n",
       "<tr>\n",
       "  <th>Dep. Variable:</th>            <td>q</td>        <th>  R-squared:         </th> <td>   0.998</td> \n",
       "</tr>\n",
       "<tr>\n",
       "  <th>Model:</th>                   <td>OLS</td>       <th>  Adj. R-squared:    </th> <td>   0.998</td> \n",
       "</tr>\n",
       "<tr>\n",
       "  <th>Method:</th>             <td>Least Squares</td>  <th>  F-statistic:       </th> <td>1.230e+04</td>\n",
       "</tr>\n",
       "<tr>\n",
       "  <th>Date:</th>             <td>Tue, 12 Oct 2021</td> <th>  Prob (F-statistic):</th> <td>3.79e-54</td> \n",
       "</tr>\n",
       "<tr>\n",
       "  <th>Time:</th>                 <td>11:38:35</td>     <th>  Log-Likelihood:    </th> <td>  140.77</td> \n",
       "</tr>\n",
       "<tr>\n",
       "  <th>No. Observations:</th>      <td>    41</td>      <th>  AIC:               </th> <td>  -275.5</td> \n",
       "</tr>\n",
       "<tr>\n",
       "  <th>Df Residuals:</th>          <td>    38</td>      <th>  BIC:               </th> <td>  -270.4</td> \n",
       "</tr>\n",
       "<tr>\n",
       "  <th>Df Model:</th>              <td>     2</td>      <th>                     </th>     <td> </td>    \n",
       "</tr>\n",
       "<tr>\n",
       "  <th>Covariance Type:</th>      <td>nonrobust</td>    <th>                     </th>     <td> </td>    \n",
       "</tr>\n",
       "</table>\n",
       "<table class=\"simpletable\">\n",
       "<tr>\n",
       "    <td></td>       <th>coef</th>     <th>std err</th>      <th>t</th>      <th>P>|t|</th>  <th>[0.025</th>    <th>0.975]</th>  \n",
       "</tr>\n",
       "<tr>\n",
       "  <th>const</th> <td>   -0.2954</td> <td>    0.011</td> <td>  -26.527</td> <td> 0.000</td> <td>   -0.318</td> <td>   -0.273</td>\n",
       "</tr>\n",
       "<tr>\n",
       "  <th>k</th>     <td>    0.0956</td> <td>    0.004</td> <td>   23.993</td> <td> 0.000</td> <td>    0.088</td> <td>    0.104</td>\n",
       "</tr>\n",
       "<tr>\n",
       "  <th>A</th>     <td>    0.7172</td> <td>    0.005</td> <td>  145.954</td> <td> 0.000</td> <td>    0.707</td> <td>    0.727</td>\n",
       "</tr>\n",
       "</table>\n",
       "<table class=\"simpletable\">\n",
       "<tr>\n",
       "  <th>Omnibus:</th>       <td> 5.878</td> <th>  Durbin-Watson:     </th> <td>   1.023</td>\n",
       "</tr>\n",
       "<tr>\n",
       "  <th>Prob(Omnibus):</th> <td> 0.053</td> <th>  Jarque-Bera (JB):  </th> <td>   6.972</td>\n",
       "</tr>\n",
       "<tr>\n",
       "  <th>Skew:</th>          <td> 0.278</td> <th>  Prob(JB):          </th> <td>  0.0306</td>\n",
       "</tr>\n",
       "<tr>\n",
       "  <th>Kurtosis:</th>      <td> 4.942</td> <th>  Cond. No.          </th> <td>    29.0</td>\n",
       "</tr>\n",
       "</table><br/><br/>Notes:<br/>[1] Standard Errors assume that the covariance matrix of the errors is correctly specified."
      ],
      "text/plain": [
       "<class 'statsmodels.iolib.summary.Summary'>\n",
       "\"\"\"\n",
       "                            OLS Regression Results                            \n",
       "==============================================================================\n",
       "Dep. Variable:                      q   R-squared:                       0.998\n",
       "Model:                            OLS   Adj. R-squared:                  0.998\n",
       "Method:                 Least Squares   F-statistic:                 1.230e+04\n",
       "Date:                Tue, 12 Oct 2021   Prob (F-statistic):           3.79e-54\n",
       "Time:                        11:38:35   Log-Likelihood:                 140.77\n",
       "No. Observations:                  41   AIC:                            -275.5\n",
       "Df Residuals:                      38   BIC:                            -270.4\n",
       "Df Model:                           2                                         \n",
       "Covariance Type:            nonrobust                                         \n",
       "==============================================================================\n",
       "                 coef    std err          t      P>|t|      [0.025      0.975]\n",
       "------------------------------------------------------------------------------\n",
       "const         -0.2954      0.011    -26.527      0.000      -0.318      -0.273\n",
       "k              0.0956      0.004     23.993      0.000       0.088       0.104\n",
       "A              0.7172      0.005    145.954      0.000       0.707       0.727\n",
       "==============================================================================\n",
       "Omnibus:                        5.878   Durbin-Watson:                   1.023\n",
       "Prob(Omnibus):                  0.053   Jarque-Bera (JB):                6.972\n",
       "Skew:                           0.278   Prob(JB):                       0.0306\n",
       "Kurtosis:                       4.942   Cond. No.                         29.0\n",
       "==============================================================================\n",
       "\n",
       "Notes:\n",
       "[1] Standard Errors assume that the covariance matrix of the errors is correctly specified.\n",
       "\"\"\""
      ]
     },
     "execution_count": 119,
     "metadata": {},
     "output_type": "execute_result"
    }
   ],
   "source": [
    "mco1 = sm.OLS(y, X).fit()\n",
    "mco1.summary()"
   ]
  },
  {
   "cell_type": "markdown",
   "metadata": {},
   "source": [
    "Podemos hacer un gráfico de la nube de puntos entre cada una de las variables explicativas y la explicada"
   ]
  },
  {
   "cell_type": "code",
   "execution_count": 64,
   "metadata": {},
   "outputs": [
    {
     "data": {
      "text/plain": [
       "<seaborn.axisgrid.FacetGrid at 0x24ad3a3c340>"
      ]
     },
     "execution_count": 64,
     "metadata": {},
     "output_type": "execute_result"
    },
    {
     "data": {
      "image/png": "[encoded data removed]",
      "text/plain": [
       "<Figure size 360x360 with 1 Axes>"
      ]
     },
     "metadata": {
      "needs_background": "light"
     },
     "output_type": "display_data"
    }
   ],
   "source": [
    "sns.lmplot(x=\"k\", y=\"q\", data=datos)"
   ]
  },
  {
   "cell_type": "markdown",
   "metadata": {},
   "source": [
    "El modelo obtenido permite realizar algunas gráficas más que nos permitirán validar el modelo:"
   ]
  },
  {
   "cell_type": "code",
   "execution_count": 83,
   "metadata": {},
   "outputs": [
    {
     "data": {
      "text/plain": [
       "<seaborn.axisgrid.FacetGrid at 0x24ad3435280>"
      ]
     },
     "execution_count": 83,
     "metadata": {},
     "output_type": "execute_result"
    },
    {
     "data": {
      "image/png": "[encoded data removed]",
      "text/plain": [
       "<Figure size 360x360 with 1 Axes>"
      ]
     },
     "metadata": {
      "needs_background": "light"
     },
     "output_type": "display_data"
    }
   ],
   "source": [
    "sns.lmplot(x=\"A\", y=\"q\", data=datos)"
   ]
  },
  {
   "cell_type": "code",
   "execution_count": 84,
   "metadata": {},
   "outputs": [
    {
     "data": {
      "image/png": "[encoded data removed]",
      "text/plain": [
       "<Figure size 432x288 with 4 Axes>"
      ]
     },
     "execution_count": 84,
     "metadata": {},
     "output_type": "execute_result"
    },
    {
     "data": {
      "image/png": "[encoded data removed]",
      "text/plain": [
       "<Figure size 432x288 with 4 Axes>"
      ]
     },
     "metadata": {
      "needs_background": "light"
     },
     "output_type": "display_data"
    }
   ],
   "source": [
    "sm.graphics.plot_regress_exog(mco1, 'k')"
   ]
  },
  {
   "cell_type": "code",
   "execution_count": 85,
   "metadata": {},
   "outputs": [
    {
     "data": {
      "image/png": "[encoded data removed]",
      "text/plain": [
       "<Figure size 432x288 with 4 Axes>"
      ]
     },
     "execution_count": 85,
     "metadata": {},
     "output_type": "execute_result"
    },
    {
     "data": {
      "image/png": "[encoded data removed]",
      "text/plain": [
       "<Figure size 432x288 with 4 Axes>"
      ]
     },
     "metadata": {
      "needs_background": "light"
     },
     "output_type": "display_data"
    }
   ],
   "source": [
    "sm.graphics.plot_regress_exog(mco1, 'A')"
   ]
  },
  {
   "cell_type": "markdown",
   "metadata": {},
   "source": [
    "Del modelo se pueden extraer otras medidas como:\n",
    "\n",
    "* Valores predichos $\\hat y$\n",
    "* Residuos\n",
    "\n"
   ]
  },
  {
   "cell_type": "code",
   "execution_count": 121,
   "metadata": {},
   "outputs": [
    {
     "name": "stdout",
     "output_type": "stream",
     "text": [
      "0     0.618772\n",
      "1     0.610404\n",
      "2     0.644353\n",
      "3     0.649612\n",
      "4     0.680931\n",
      "5     0.683083\n",
      "6     0.667304\n",
      "7     0.700057\n",
      "8     0.679736\n",
      "9     0.735919\n",
      "10    0.770583\n",
      "11    0.717986\n",
      "12    0.770344\n",
      "13    0.791144\n",
      "14    0.811943\n",
      "15    0.838001\n",
      "16    0.872667\n",
      "17    0.869081\n",
      "18    0.870515\n",
      "19    0.872666\n",
      "20    0.894422\n",
      "21    0.878641\n",
      "22    0.902310\n",
      "23    0.877446\n",
      "24    0.869558\n",
      "25    0.922394\n",
      "26    0.946541\n",
      "27    0.989576\n",
      "28    0.978579\n",
      "29    1.006789\n",
      "30    1.044803\n",
      "31    1.096444\n",
      "32    1.141869\n",
      "33    1.151192\n",
      "34    1.168645\n",
      "35    1.255669\n",
      "36    1.285792\n",
      "37    1.212397\n",
      "38    1.190880\n",
      "39    1.215743\n",
      "40    1.260211\n",
      "dtype: float64\n",
      "0     0.004228\n",
      "1     0.005596\n",
      "2     0.002647\n",
      "3     0.002388\n",
      "4    -0.000931\n",
      "5    -0.001083\n",
      "6     0.001696\n",
      "7    -0.000057\n",
      "8    -0.000736\n",
      "9    -0.006919\n",
      "10   -0.003583\n",
      "11    0.003014\n",
      "12   -0.000344\n",
      "13   -0.003144\n",
      "14   -0.002943\n",
      "15    0.024999\n",
      "16   -0.000667\n",
      "17   -0.000081\n",
      "18    0.000485\n",
      "19    0.001334\n",
      "20    0.000578\n",
      "21    0.001359\n",
      "22    0.001690\n",
      "23    0.001554\n",
      "24   -0.000558\n",
      "25   -0.001394\n",
      "26   -0.003541\n",
      "27   -0.007576\n",
      "28   -0.007579\n",
      "29   -0.006789\n",
      "30   -0.010803\n",
      "31   -0.014444\n",
      "32   -0.019869\n",
      "33   -0.015192\n",
      "34    0.011355\n",
      "35    0.009331\n",
      "36    0.010208\n",
      "37    0.002603\n",
      "38    0.003120\n",
      "39    0.005257\n",
      "40    0.014789\n",
      "dtype: float64\n"
     ]
    },
    {
     "data": {
      "text/plain": [
       "2.3287604906771577e-16"
      ]
     },
     "execution_count": 121,
     "metadata": {},
     "output_type": "execute_result"
    }
   ],
   "source": [
    "yhat=mco1.fittedvalues\n",
    "print(yhat)\n",
    "e=mco1.resid\n",
    "print(e)\n",
    "np.mean(e)"
   ]
  },
  {
   "cell_type": "code",
   "execution_count": 87,
   "metadata": {},
   "outputs": [
    {
     "data": {
      "image/png": "[encoded data removed]",
      "text/plain": [
       "<Figure size 432x288 with 1 Axes>"
      ]
     },
     "metadata": {
      "needs_background": "light"
     },
     "output_type": "display_data"
    }
   ],
   "source": [
    "plt.plot(years, e)\n",
    "plt.ylabel('residuos')\n",
    "plt.xlabel('years')\n",
    "plt.show()"
   ]
  },
  {
   "cell_type": "markdown",
   "metadata": {},
   "source": [
    "## Importancia de una buena especificación."
   ]
  },
  {
   "cell_type": "markdown",
   "metadata": {},
   "source": [
    "Vamos a repetir el análisis anterior, pero sin incorporar la variable indice tecnologico, que se ha comprobado que es una variable especialmente relevante en el modelo. "
   ]
  },
  {
   "cell_type": "code",
   "execution_count": 122,
   "metadata": {},
   "outputs": [
    {
     "data": {
      "text/html": [
       "<table class=\"simpletable\">\n",
       "<caption>OLS Regression Results</caption>\n",
       "<tr>\n",
       "  <th>Dep. Variable:</th>            <td>q</td>        <th>  R-squared:         </th> <td>   0.134</td>\n",
       "</tr>\n",
       "<tr>\n",
       "  <th>Model:</th>                   <td>OLS</td>       <th>  Adj. R-squared:    </th> <td>   0.111</td>\n",
       "</tr>\n",
       "<tr>\n",
       "  <th>Method:</th>             <td>Least Squares</td>  <th>  F-statistic:       </th> <td>   6.011</td>\n",
       "</tr>\n",
       "<tr>\n",
       "  <th>Date:</th>             <td>Tue, 12 Oct 2021</td> <th>  Prob (F-statistic):</th>  <td>0.0188</td> \n",
       "</tr>\n",
       "<tr>\n",
       "  <th>Time:</th>                 <td>11:43:39</td>     <th>  Log-Likelihood:    </th> <td>  10.993</td>\n",
       "</tr>\n",
       "<tr>\n",
       "  <th>No. Observations:</th>      <td>    41</td>      <th>  AIC:               </th> <td>  -17.99</td>\n",
       "</tr>\n",
       "<tr>\n",
       "  <th>Df Residuals:</th>          <td>    39</td>      <th>  BIC:               </th> <td>  -14.56</td>\n",
       "</tr>\n",
       "<tr>\n",
       "  <th>Df Model:</th>              <td>     1</td>      <th>                     </th>     <td> </td>   \n",
       "</tr>\n",
       "<tr>\n",
       "  <th>Covariance Type:</th>      <td>nonrobust</td>    <th>                     </th>     <td> </td>   \n",
       "</tr>\n",
       "</table>\n",
       "<table class=\"simpletable\">\n",
       "<tr>\n",
       "    <td></td>       <th>coef</th>     <th>std err</th>      <th>t</th>      <th>P>|t|</th>  <th>[0.025</th>    <th>0.975]</th>  \n",
       "</tr>\n",
       "<tr>\n",
       "  <th>const</th> <td>    0.3191</td> <td>    0.241</td> <td>    1.323</td> <td> 0.194</td> <td>   -0.169</td> <td>    0.807</td>\n",
       "</tr>\n",
       "<tr>\n",
       "  <th>k</th>     <td>    0.2230</td> <td>    0.091</td> <td>    2.452</td> <td> 0.019</td> <td>    0.039</td> <td>    0.407</td>\n",
       "</tr>\n",
       "</table>\n",
       "<table class=\"simpletable\">\n",
       "<tr>\n",
       "  <th>Omnibus:</th>       <td> 7.142</td> <th>  Durbin-Watson:     </th> <td>   0.041</td>\n",
       "</tr>\n",
       "<tr>\n",
       "  <th>Prob(Omnibus):</th> <td> 0.028</td> <th>  Jarque-Bera (JB):  </th> <td>   6.845</td>\n",
       "</tr>\n",
       "<tr>\n",
       "  <th>Skew:</th>          <td> 0.941</td> <th>  Prob(JB):          </th> <td>  0.0326</td>\n",
       "</tr>\n",
       "<tr>\n",
       "  <th>Kurtosis:</th>      <td> 2.316</td> <th>  Cond. No.          </th> <td>    24.6</td>\n",
       "</tr>\n",
       "</table><br/><br/>Notes:<br/>[1] Standard Errors assume that the covariance matrix of the errors is correctly specified."
      ],
      "text/plain": [
       "<class 'statsmodels.iolib.summary.Summary'>\n",
       "\"\"\"\n",
       "                            OLS Regression Results                            \n",
       "==============================================================================\n",
       "Dep. Variable:                      q   R-squared:                       0.134\n",
       "Model:                            OLS   Adj. R-squared:                  0.111\n",
       "Method:                 Least Squares   F-statistic:                     6.011\n",
       "Date:                Tue, 12 Oct 2021   Prob (F-statistic):             0.0188\n",
       "Time:                        11:43:39   Log-Likelihood:                 10.993\n",
       "No. Observations:                  41   AIC:                            -17.99\n",
       "Df Residuals:                      39   BIC:                            -14.56\n",
       "Df Model:                           1                                         \n",
       "Covariance Type:            nonrobust                                         \n",
       "==============================================================================\n",
       "                 coef    std err          t      P>|t|      [0.025      0.975]\n",
       "------------------------------------------------------------------------------\n",
       "const          0.3191      0.241      1.323      0.194      -0.169       0.807\n",
       "k              0.2230      0.091      2.452      0.019       0.039       0.407\n",
       "==============================================================================\n",
       "Omnibus:                        7.142   Durbin-Watson:                   0.041\n",
       "Prob(Omnibus):                  0.028   Jarque-Bera (JB):                6.845\n",
       "Skew:                           0.941   Prob(JB):                       0.0326\n",
       "Kurtosis:                       2.316   Cond. No.                         24.6\n",
       "==============================================================================\n",
       "\n",
       "Notes:\n",
       "[1] Standard Errors assume that the covariance matrix of the errors is correctly specified.\n",
       "\"\"\""
      ]
     },
     "execution_count": 122,
     "metadata": {},
     "output_type": "execute_result"
    }
   ],
   "source": [
    "X1=sm.add_constant(datos[[\"k\"]])\n",
    "mco1 = sm.OLS(y, X1).fit()\n",
    "mco1.summary()"
   ]
  },
  {
   "cell_type": "code",
   "execution_count": 123,
   "metadata": {},
   "outputs": [
    {
     "name": "stdout",
     "output_type": "stream",
     "text": [
      "0    -0.155524\n",
      "1    -0.171445\n",
      "2    -0.156057\n",
      "3    -0.159978\n",
      "4    -0.136439\n",
      "5    -0.127748\n",
      "6    -0.154130\n",
      "7    -0.140972\n",
      "8    -0.132978\n",
      "9    -0.085209\n",
      "10   -0.102965\n",
      "11   -0.173498\n",
      "12   -0.117807\n",
      "13   -0.086426\n",
      "14   -0.092189\n",
      "15   -0.067182\n",
      "16   -0.073794\n",
      "17   -0.090175\n",
      "18   -0.101557\n",
      "19   -0.118629\n",
      "20   -0.106550\n",
      "21   -0.175077\n",
      "22   -0.157767\n",
      "23   -0.171616\n",
      "24   -0.141471\n",
      "25   -0.067169\n",
      "26   -0.016175\n",
      "27    0.056278\n",
      "28    0.047509\n",
      "29    0.060897\n",
      "30    0.121660\n",
      "31    0.176351\n",
      "32    0.227502\n",
      "33    0.228121\n",
      "34    0.276581\n",
      "35    0.359351\n",
      "36    0.383660\n",
      "37    0.338344\n",
      "38    0.317344\n",
      "39    0.333193\n",
      "40    0.353739\n",
      "dtype: float64\n"
     ]
    },
    {
     "data": {
      "text/plain": [
       "-1.597638011045957e-16"
      ]
     },
     "execution_count": 123,
     "metadata": {},
     "output_type": "execute_result"
    }
   ],
   "source": [
    "yhat1=mco1.fittedvalues\n",
    "e1=mco1.resid\n",
    "print(e1)\n",
    "np.mean(e1)"
   ]
  },
  {
   "cell_type": "code",
   "execution_count": 124,
   "metadata": {
    "scrolled": true
   },
   "outputs": [
    {
     "data": {
      "image/png": "[encoded data removed]",
      "text/plain": [
       "<Figure size 432x288 with 1 Axes>"
      ]
     },
     "metadata": {
      "needs_background": "light"
     },
     "output_type": "display_data"
    }
   ],
   "source": [
    "plt.plot(years, e1, label = \"Residuos\")\n",
    "plt.plot(years, A, label = \"A\")\n",
    "plt.xlabel('years')\n",
    "plt.legend()\n",
    "plt.show()"
   ]
  }
 ],
 "metadata": {
  "kernelspec": {
   "display_name": "Python 3",
   "language": "python",
   "name": "python3"
  },
  "language_info": {
   "codemirror_mode": {
    "name": "ipython",
    "version": 3
   },
   "file_extension": ".py",
   "mimetype": "text/x-python",
   "name": "python",
   "nbconvert_exporter": "python",
   "pygments_lexer": "ipython3",
   "version": "3.8.5"
  }
 },
 "nbformat": 4,
 "nbformat_minor": 2
}
